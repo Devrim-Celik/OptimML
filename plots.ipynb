{
 "cells": [
  {
   "cell_type": "code",
   "execution_count": null,
   "metadata": {},
   "outputs": [],
   "source": [
    "import pickle\n",
    "import matplotlib.pyplot as plt\n",
    "import seaborn as sns\n",
    "from auxiliary import load_pickle\n",
    "%matplotlib inline\n",
    "\n",
    "sns.set_theme()"
   ]
  },
  {
   "cell_type": "code",
   "execution_count": null,
   "metadata": {},
   "outputs": [],
   "source": [
    "PATH='./results/TestSuite-06_11_2021-23_52_25'"
   ]
  },
  {
   "cell_type": "code",
   "execution_count": null,
   "metadata": {},
   "outputs": [],
   "source": [
    "data = load_pickle(PATH)"
   ]
  },
  {
   "cell_type": "code",
   "execution_count": null,
   "metadata": {},
   "outputs": [],
   "source": [
    "data"
   ]
  },
  {
   "cell_type": "code",
   "execution_count": null,
   "metadata": {},
   "outputs": [],
   "source": [
    "def get_top1_accuracy(results):\n",
    "    nr_nodes = results['nr_nodes']\n",
    "    top_acc_list = []\n",
    "    for i in range(nr_nodes):\n",
    "        node_dict = results[f'node_{i}']\n",
    "        top_acc_list.append(max(node_dict['test_accuracies']))\n",
    "\n",
    "    return top_acc_list, sum(top_acc_list)/len(top_acc_list)"
   ]
  },
  {
   "cell_type": "code",
   "execution_count": null,
   "metadata": {},
   "outputs": [],
   "source": [
    "def get_top1_per_epoch(results):\n",
    "    nr_nodes = results['nr_nodes']\n",
    "    top_acc_list = []\n",
    "    for i in range(nr_nodes):\n",
    "        node_dict = results[f'node_{i}']\n",
    "        top_acc_list.append(node_dict['test_accuracies'])\n",
    "    transpose = list(zip(*top_acc_list))\n",
    "    return [max(node) for node in transpose]"
   ]
  },
  {
   "cell_type": "code",
   "execution_count": null,
   "metadata": {},
   "outputs": [],
   "source": [
    "get_top1_per_epoch(data[0])"
   ]
  },
  {
   "cell_type": "code",
   "execution_count": null,
   "metadata": {},
   "outputs": [],
   "source": [
    "def graph_top1_epochs(results, n_subplots = 3):\n",
    "    \n",
    "    sns.set_style(\"whitegrid\")\n",
    "    sns.set_palette(\"colorblind\")\n",
    "    \n",
    "    f, ax = plt.subplots(1, n_subplots, sharex=True, sharey=True, figsize=(13,5))\n",
    "        \n",
    "    for idx, run in enumerate(results):\n",
    "        ax[idx%3].plot(run['epoch_list'], get_top1_per_epoch(run), label=f\"{run['graph']}\")\n",
    "        \n",
    "    for i in range(n_subplots):\n",
    "        ax[i].set_xlabel(\"Epochs\")\n",
    "        ax[i].set_ylabel(\"Test Accuracy\")\n",
    "        ax[i].set_xlim(right=10)\n",
    "        \n",
    "    ax[2].legend()\n",
    "    plt.title('')"
   ]
  },
  {
   "cell_type": "code",
   "execution_count": null,
   "metadata": {
    "scrolled": true
   },
   "outputs": [],
   "source": [
    "fig = graph_top1_epochs(data)\n",
    "fig"
   ]
  },
  {
   "cell_type": "code",
   "execution_count": null,
   "metadata": {},
   "outputs": [],
   "source": [
    "plt.savefig(\"./plots/topology_testrun.pdf\")"
   ]
  },
  {
   "cell_type": "code",
   "execution_count": null,
   "metadata": {},
   "outputs": [],
   "source": [
    "def graph_top1_bytes(results):\n",
    "    f, ax = plt.subplots(1, 1)\n",
    "    for run in results:\n",
    "        ax = sns.lineplot(x = run['node_0']['sent_bytes'],y = get_top1_per_epoch(run), label=f\"{run['nr_nodes']} Nodes\")\n",
    "    ax.legend()\n",
    "    plt.xlabel('Bytes')\n",
    "    plt.ylabel('Accuracy')"
   ]
  },
  {
   "cell_type": "code",
   "execution_count": null,
   "metadata": {},
   "outputs": [],
   "source": [
    "graph_top1_bytes(data)"
   ]
  },
  {
   "cell_type": "code",
   "execution_count": null,
   "metadata": {},
   "outputs": [],
   "source": []
  }
 ],
 "metadata": {
  "kernelspec": {
   "display_name": "Python 3",
   "language": "python",
   "name": "python3"
  },
  "language_info": {
   "codemirror_mode": {
    "name": "ipython",
    "version": 3
   },
   "file_extension": ".py",
   "mimetype": "text/x-python",
   "name": "python",
   "nbconvert_exporter": "python",
   "pygments_lexer": "ipython3",
   "version": "3.7.2"
  }
 },
 "nbformat": 4,
 "nbformat_minor": 4
}
