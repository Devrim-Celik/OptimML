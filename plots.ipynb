{
 "cells": [
  {
   "cell_type": "code",
   "execution_count": 1,
   "metadata": {},
   "outputs": [],
   "source": [
    "import pickle\n",
    "import matplotlib.pyplot as plt\n",
    "from auxiliary import load_pickle"
   ]
  },
  {
   "cell_type": "code",
   "execution_count": 4,
   "metadata": {},
   "outputs": [],
   "source": [
    "PATH='./results/TestSuite-06_03_2021-15_22_03'"
   ]
  },
  {
   "cell_type": "code",
   "execution_count": 5,
   "metadata": {},
   "outputs": [],
   "source": [
    "data = load_pickle(PATH)"
   ]
  },
  {
   "cell_type": "code",
   "execution_count": 6,
   "metadata": {},
   "outputs": [
    {
     "data": {
      "text/plain": [
       "[{'task': 'MNIST',\n",
       "  'graph': 'CycleGraph',\n",
       "  'nr_classes': 3,\n",
       "  'nr_nodes': 2,\n",
       "  'training_epochs': 301,\n",
       "  'node_0': {'lr': 0.0001,\n",
       "   'alpha': 0.9,\n",
       "   'test_accuracies': [0.1354, 0.0804],\n",
       "   'test_losses': [2.26369571685791, 2.410794973373413],\n",
       "   'sent_bytes': 33712,\n",
       "   'received_bytes': 33712},\n",
       "  'node_1': {'lr': 0.0001,\n",
       "   'alpha': 0.9,\n",
       "   'test_accuracies': [0.0998, 0.1282],\n",
       "   'test_losses': [2.2925779819488525, 2.284843683242798],\n",
       "   'sent_bytes': 33712,\n",
       "   'received_bytes': 33712}}]"
      ]
     },
     "execution_count": 6,
     "metadata": {},
     "output_type": "execute_result"
    }
   ],
   "source": [
    "data"
   ]
  },
  {
   "cell_type": "code",
   "execution_count": 7,
   "metadata": {},
   "outputs": [],
   "source": [
    "l = [[1, 2, 3], [4, 5, 6], [7, 8, 9]]"
   ]
  },
  {
   "cell_type": "code",
   "execution_count": 12,
   "metadata": {},
   "outputs": [
    {
     "data": {
      "text/plain": [
       "[1, 4, 7]"
      ]
     },
     "execution_count": 12,
     "metadata": {},
     "output_type": "execute_result"
    }
   ],
   "source": [
    "[col[0] for col in l]"
   ]
  },
  {
   "cell_type": "code",
   "execution_count": null,
   "metadata": {},
   "outputs": [],
   "source": []
  }
 ],
 "metadata": {
  "kernelspec": {
   "display_name": "Python 3",
   "language": "python",
   "name": "python3"
  },
  "language_info": {
   "codemirror_mode": {
    "name": "ipython",
    "version": 3
   },
   "file_extension": ".py",
   "mimetype": "text/x-python",
   "name": "python",
   "nbconvert_exporter": "python",
   "pygments_lexer": "ipython3",
   "version": "3.8.8"
  }
 },
 "nbformat": 4,
 "nbformat_minor": 4
}
