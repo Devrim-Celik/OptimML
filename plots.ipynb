{
 "cells": [
  {
   "cell_type": "code",
   "execution_count": null,
   "metadata": {},
   "outputs": [],
   "source": [
    "import pickle\n",
    "import matplotlib.pyplot as plt\n",
    "import seaborn as sns\n",
    "from auxiliary import load_pickle\n",
    "import pandas as pd\n",
    "import numpy as np\n",
    "%matplotlib inline\n",
    "\n",
    "sns.set_theme()"
   ]
  },
  {
   "cell_type": "code",
   "execution_count": null,
   "metadata": {},
   "outputs": [],
   "source": [
    "PATH='./results/TestSuite-06_14_2021-18_28_23'"
   ]
  },
  {
   "cell_type": "code",
   "execution_count": null,
   "metadata": {},
   "outputs": [],
   "source": [
    "data = load_pickle(PATH)"
   ]
  },
  {
   "cell_type": "code",
   "execution_count": null,
   "metadata": {},
   "outputs": [],
   "source": [
    "def get_mean_test_acc_per_epoch(results):\n",
    "    nr_nodes = results['nr_nodes']\n",
    "    top_acc_list = []\n",
    "    for i in range(nr_nodes):\n",
    "        node_dict = results[f'node_{i}']\n",
    "        top_acc_list.append(node_dict['test_accuracies'])\n",
    "    transpose = list(zip(*top_acc_list))\n",
    "    return [np.mean(node) for node in transpose]"
   ]
  },
  {
   "cell_type": "code",
   "execution_count": null,
   "metadata": {},
   "outputs": [],
   "source": [
    "def graph_mean_epochs(results, setup=\"uniform_iid_non_private\", n_subplots = 3):\n",
    "    \n",
    "    sns.set_style(\"whitegrid\")\n",
    "    sns.set_palette(\"colorblind\")\n",
    "    \n",
    "    f, ax = plt.subplots(1, n_subplots, sharex=True, sharey=True, figsize=(13,5))\n",
    "        \n",
    "    for idx, run in enumerate(results):\n",
    "        if setup == \"uniform_iid_non_private\":\n",
    "            if not run['add_privacy_list']:\n",
    "                ax[idx%3].plot(run['epoch_list'], get_mean_test_acc_per_epoch(run), label=f\"{run['graph']}\")\n",
    "                #ax[idx%3].set_xticklabels(run['epoch_list'], fontsize=12)\n",
    "                ax[idx%3].tick_params(axis='x', labelsize=15)\n",
    "                ax[idx%3].tick_params(axis='y', labelsize=13)\n",
    "                #ax[idx%3].set_title(\"Nodes: \" + str(run['nr_nodes']), fontsize=20)\n",
    "        if setup == \"uniform_iid_private\":\n",
    "            if run['add_privacy_list']:\n",
    "                ax[idx%3].plot(run['epoch_list'], get_mean_test_acc_per_epoch(run), label=f\"{run['graph']}\")\n",
    "                #ax[idx%3].set_xticklabels(run['epoch_list'], fontsize=12)\n",
    "                ax[idx%3].tick_params(axis='x', labelsize=15)\n",
    "                ax[idx%3].tick_params(axis='y', labelsize=13)\n",
    "                #ax[idx%3].set_title(\"Nodes: \" + str(run['nr_nodes']), fontsize=20)\n",
    "        \n",
    "    for i in range(n_subplots):\n",
    "        ax[i].set_xlabel(\"Epochs\", fontsize=18)\n",
    "        ax[i].set_ylabel(\"Mean Test Accuracy\", fontsize=18)\n",
    "        ax[i].set_xlim(0, 50)\n",
    "        ax[i].set_ylim(0.7,1)\n",
    "        \n",
    "    ax[2].legend()"
   ]
  },
  {
   "cell_type": "code",
   "execution_count": null,
   "metadata": {
    "scrolled": true
   },
   "outputs": [],
   "source": [
    "graph_mean_epochs(data)"
   ]
  },
  {
   "cell_type": "code",
   "execution_count": null,
   "metadata": {},
   "outputs": [],
   "source": [
    "graph_mean_epochs(data, \"uniform_iid_private\")"
   ]
  },
  {
   "cell_type": "code",
   "execution_count": null,
   "metadata": {},
   "outputs": [],
   "source": [
    "def get_top1_accuracy(results):\n",
    "    nr_nodes = results['nr_nodes']\n",
    "    top_acc_list = []\n",
    "    for i in range(nr_nodes):\n",
    "        node_dict = results[f'node_{i}']\n",
    "        top_acc_list.append(max(node_dict['test_accuracies']))\n",
    "\n",
    "    return top_acc_list, sum(top_acc_list)/len(top_acc_list)"
   ]
  },
  {
   "cell_type": "code",
   "execution_count": null,
   "metadata": {},
   "outputs": [],
   "source": [
    "def graph_top1_epochs(results, setup=\"uniform_iid_non_private\", n_subplots = 3):\n",
    "    \n",
    "    sns.set_style(\"whitegrid\")\n",
    "    sns.set_palette(\"colorblind\")\n",
    "    \n",
    "    f, ax = plt.subplots(1, n_subplots, sharex=True, sharey=True, figsize=(13,5))\n",
    "        \n",
    "    for idx, run in enumerate(results):\n",
    "        if setup == \"uniform_iid_non_private\":\n",
    "            if not run['add_privacy_list']:\n",
    "                ax[idx%3].plot(run['epoch_list'], get_top1_per_epoch(run), label=f\"{run['graph']}\")\n",
    "                #ax[idx%3].set_xticklabels(run['epoch_list'], fontsize=12)\n",
    "                ax[idx%3].tick_params(axis='x', labelsize=15)\n",
    "                ax[idx%3].tick_params(axis='y', labelsize=13)\n",
    "                #ax[idx%3].set_title(\"Nodes: \" + str(run['nr_nodes']), fontsize=20)\n",
    "        if setup == \"uniform_iid_private\":\n",
    "            if run['add_privacy_list']:\n",
    "                ax[idx%3].plot(run['epoch_list'], get_top1_per_epoch(run), label=f\"{run['graph']}\")\n",
    "                #ax[idx%3].set_xticklabels(run['epoch_list'], fontsize=12)\n",
    "                ax[idx%3].tick_params(axis='x', labelsize=15)\n",
    "                ax[idx%3].tick_params(axis='y', labelsize=13)\n",
    "                #ax[idx%3].set_title(\"Nodes: \" + str(run['nr_nodes']), fontsize=20)\n",
    "                \n",
    "        \n",
    "    for i in range(n_subplots):\n",
    "        ax[i].set_xlabel(\"Epochs\", fontsize=18)\n",
    "        ax[i].set_ylabel(\"Test Accuracy\", fontsize=18)\n",
    "        ax[i].set_xlim(0, 20)\n",
    "        \n",
    "    ax[2].legend()"
   ]
  },
  {
   "cell_type": "code",
   "execution_count": null,
   "metadata": {
    "scrolled": true
   },
   "outputs": [],
   "source": [
    "fig = graph_top1_epochs(data)\n",
    "fig\n",
    "#plt.savefig(\"./plots/topology_testrun_iid_uniform_data_non_private.pdf\")"
   ]
  },
  {
   "cell_type": "code",
   "execution_count": null,
   "metadata": {},
   "outputs": [],
   "source": [
    "graph_top1_epochs(data, \"uniform_iid_private\")\n",
    "#plt.savefig(\"./plots/topology_testrun_iid_uniform_data_private.pdf\")"
   ]
  },
  {
   "cell_type": "code",
   "execution_count": null,
   "metadata": {},
   "outputs": [],
   "source": [
    "def graph_top1_bytes(results):\n",
    "    f, ax = plt.subplots(1, 1)\n",
    "    for run in results:\n",
    "        ax = sns.lineplot(x = run['node_0']['sent_bytes'],y = get_top1_per_epoch(run), label=f\"{run['nr_nodes']} Nodes\")\n",
    "    ax.legend()\n",
    "    plt.xlabel('Bytes')\n",
    "    plt.ylabel('Accuracy')"
   ]
  },
  {
   "cell_type": "code",
   "execution_count": null,
   "metadata": {},
   "outputs": [],
   "source": [
    "graph_top1_bytes(data)"
   ]
  },
  {
   "cell_type": "code",
   "execution_count": null,
   "metadata": {},
   "outputs": [],
   "source": []
  }
 ],
 "metadata": {
  "kernelspec": {
   "display_name": "Python 3",
   "language": "python",
   "name": "python3"
  },
  "language_info": {
   "codemirror_mode": {
    "name": "ipython",
    "version": 3
   },
   "file_extension": ".py",
   "mimetype": "text/x-python",
   "name": "python",
   "nbconvert_exporter": "python",
   "pygments_lexer": "ipython3",
   "version": "3.7.2"
  }
 },
 "nbformat": 4,
 "nbformat_minor": 4
}
