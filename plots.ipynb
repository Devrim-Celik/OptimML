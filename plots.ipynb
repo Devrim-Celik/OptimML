{
 "cells": [
  {
   "cell_type": "markdown",
   "metadata": {},
   "source": [
    "### Imports and data paths"
   ]
  },
  {
   "cell_type": "code",
   "execution_count": null,
   "metadata": {},
   "outputs": [],
   "source": [
    "import matplotlib.pyplot as plt\n",
    "import numpy as np\n",
    "import seaborn as sns\n",
    "import pickle5 as pickle\n",
    "\n",
    "from auxiliary import load_pickle\n",
    "%matplotlib inline\n",
    "\n",
    "sns.set_theme()"
   ]
  },
  {
   "cell_type": "code",
   "execution_count": null,
   "metadata": {},
   "outputs": [],
   "source": [
    "PATH_random_iid='./results/TestSuite-random_iid_06_15_2021.pkl'\n",
    "PATH_uniform_iid='./results/TestSuite-uniform_iid_06_16_2021.pkl'\n",
    "PATH_uniform_non_iid=\"./results/TestSuite-uniform_non_iid_06_17_2021.pkl\"\n",
    "PATH_random_non_iid = \"./results/TestSuite-random_non_iid_06_17_2021.pkl\""
   ]
  },
  {
   "cell_type": "markdown",
   "metadata": {},
   "source": [
    "### Load the data"
   ]
  },
  {
   "cell_type": "code",
   "execution_count": null,
   "metadata": {},
   "outputs": [],
   "source": [
    "def load_pickle(path):\n",
    "    with open(path, \"rb\") as fh:\n",
    "        data = pickle.load(fh)\n",
    "    return data\n",
    "\n",
    "data_uniform_iid = load_pickle(PATH_uniform_iid)\n",
    "data_uniform_non_iid = load_pickle(PATH_uniform_non_iid)\n",
    "data_random_iid = load_pickle(PATH_random_iid)\n",
    "data_random_non_iid = load_pickle(PATH_random_non_iid)"
   ]
  },
  {
   "cell_type": "markdown",
   "metadata": {},
   "source": [
    "### Helper functions for plotting and wrangling the data"
   ]
  },
  {
   "cell_type": "code",
   "execution_count": null,
   "metadata": {},
   "outputs": [],
   "source": [
    "# Our pickles are organised as dictionaries, \n",
    "# So we need to hierarchically iterate through them to get the desired data\n",
    "def get_mean_test_acc_per_epoch(results):\n",
    "    nr_nodes = results['nr_nodes']\n",
    "    top_acc_list = []\n",
    "    for i in range(nr_nodes):\n",
    "        # For each node save the test accuracies\n",
    "        node_dict = results[f'node_{i}']\n",
    "        top_acc_list.append(node_dict['test_accuracies'])\n",
    "    # Transpose the lists because we want to take the average across each node per epoch\n",
    "    transpose = list(zip(*top_acc_list))\n",
    "    \n",
    "    # For each epoch, compute the mean test accuracy\n",
    "    return [np.mean(node) for node in transpose]"
   ]
  },
  {
   "cell_type": "code",
   "execution_count": null,
   "metadata": {},
   "outputs": [],
   "source": [
    "def graph_mean_epochs(results, setup=\"not_private\", n_subplots = 3):\n",
    "    \n",
    "    sns.set_style(\"whitegrid\")\n",
    "    sns.set_palette(\"colorblind\")\n",
    "    \n",
    "    f, ax = plt.subplots(1, n_subplots, sharex=True, sharey=True, figsize=(13,5))\n",
    "        \n",
    "    # Iterate through each run and separate the plots in private/ non-private\n",
    "    for idx, run in enumerate(results):\n",
    "        if setup == \"not_private\":\n",
    "            if not run['add_privacy_list']:\n",
    "                ax[idx%3].plot(run['epoch_list'], get_mean_test_acc_per_epoch(run), label=f\"{run['graph']}\")\n",
    "                ax[idx%3].tick_params(axis='x', labelsize=15)\n",
    "                ax[idx%3].tick_params(axis='y', labelsize=13)\n",
    "\n",
    "        if setup == \"private\":\n",
    "            if run['add_privacy_list']:\n",
    "                ax[idx%3].plot(run['epoch_list'], get_mean_test_acc_per_epoch(run), label=f\"{run['graph']}\")\n",
    "                ax[idx%3].tick_params(axis='x', labelsize=15)\n",
    "                ax[idx%3].tick_params(axis='y', labelsize=13)\n",
    "\n",
    "        \n",
    "    for i in range(n_subplots):\n",
    "        ax[i].set_xlabel(\"Epochs\", fontsize=18)\n",
    "        ax[i].set_ylabel(\"Mean Test Accuracy\", fontsize=18)\n",
    "        ax[i].set_xlim(0, 51)\n",
    "        ax[i].set_ylim(0,1)\n",
    "        \n",
    "    ax[2].legend(loc = \"lower right\")"
   ]
  },
  {
   "cell_type": "markdown",
   "metadata": {},
   "source": [
    "### Create and save the plots for each setup"
   ]
  },
  {
   "cell_type": "code",
   "execution_count": null,
   "metadata": {
    "scrolled": true
   },
   "outputs": [],
   "source": [
    "graph_mean_epochs(data_uniform_iid)\n",
    "plt.savefig(\"./plots/topology_testrun_iid_uniform_data.pdf\")"
   ]
  },
  {
   "cell_type": "code",
   "execution_count": null,
   "metadata": {
    "scrolled": true
   },
   "outputs": [],
   "source": [
    "graph_mean_epochs(data_uniform_iid, \"private\")\n",
    "plt.savefig(\"./plots/topology_testrun_iid_uniform_private.pdf\")"
   ]
  },
  {
   "cell_type": "code",
   "execution_count": null,
   "metadata": {},
   "outputs": [],
   "source": [
    "graph_mean_epochs(data_random_iid)\n",
    "plt.savefig(\"./plots/topology_testrun_iid_random.pdf\")"
   ]
  },
  {
   "cell_type": "code",
   "execution_count": null,
   "metadata": {},
   "outputs": [],
   "source": [
    "graph_mean_epochs(data_random_iid, \"private\")\n",
    "plt.savefig(\"./plots/topology_testrun_iid_random_private.pdf\")"
   ]
  },
  {
   "cell_type": "code",
   "execution_count": null,
   "metadata": {},
   "outputs": [],
   "source": [
    "graph_mean_epochs(data_uniform_non_iid)\n",
    "plt.savefig(\"./plots/topology_testrun_non_iid_uniform.pdf\")"
   ]
  },
  {
   "cell_type": "code",
   "execution_count": null,
   "metadata": {},
   "outputs": [],
   "source": [
    "graph_mean_epochs(data_uniform_non_iid, \"private\")\n",
    "plt.savefig(\"./plots/topology_testrun_non_iid_uniform_private.pdf\")"
   ]
  },
  {
   "cell_type": "code",
   "execution_count": null,
   "metadata": {},
   "outputs": [],
   "source": [
    "graph_mean_epochs(data_random_non_iid)\n",
    "plt.savefig(\"./plots/topology_testrun_non_iid_random.pdf\")"
   ]
  },
  {
   "cell_type": "code",
   "execution_count": null,
   "metadata": {},
   "outputs": [],
   "source": [
    "graph_mean_epochs(data_random_non_iid, \"private\")\n",
    "plt.savefig(\"./plots/topology_testrun_non_iid_random_private.pdf\")"
   ]
  }
 ],
 "metadata": {
  "kernelspec": {
   "display_name": "Python 3",
   "language": "python",
   "name": "python3"
  },
  "language_info": {
   "codemirror_mode": {
    "name": "ipython",
    "version": 3
   },
   "file_extension": ".py",
   "mimetype": "text/x-python",
   "name": "python",
   "nbconvert_exporter": "python",
   "pygments_lexer": "ipython3",
   "version": "3.7.2"
  }
 },
 "nbformat": 4,
 "nbformat_minor": 4
}
