{
 "cells": [
  {
   "cell_type": "code",
   "execution_count": 7,
   "id": "f29c21ab",
   "metadata": {},
   "outputs": [],
   "source": [
    "import pickle\n",
    "from auxiliary import load_pickle\n",
    "import pandas as pd\n",
    "import numpy as np"
   ]
  },
  {
   "cell_type": "code",
   "execution_count": 8,
   "id": "260c0f05",
   "metadata": {},
   "outputs": [],
   "source": [
    "PATH='./results/TestSuite-06_14_2021-18_28_23'"
   ]
  },
  {
   "cell_type": "code",
   "execution_count": 9,
   "id": "335098fc",
   "metadata": {},
   "outputs": [],
   "source": [
    "data = load_pickle(PATH)"
   ]
  },
  {
   "cell_type": "code",
   "execution_count": 99,
   "id": "471aec8b",
   "metadata": {},
   "outputs": [],
   "source": [
    "# get the number of epochs it takes to converge and return a list of configuration + convergence epochs\n",
    "def get_convergence(results, epsilon = 0.0001):\n",
    "    \n",
    "    setup = []\n",
    "    for idx, run in enumerate(data): #iterate through runs\n",
    "\n",
    "        nr_nodes = run['nr_nodes']\n",
    "        run_epochs = []\n",
    "        run_test_acc = []\n",
    "        run_train_loss = []\n",
    "        \n",
    "        for i in range(nr_nodes): #iterate through nodes in run\n",
    "            \n",
    "            node_dict = run[f'node_{i}']\n",
    "            train_acc = node_dict['train_accuracies']\n",
    "            train_loss = node_dict['train_losses']\n",
    "            test_acc = node_dict['test_accuracies']\n",
    "            \n",
    "            for j in range(len(train_acc)-1): #iterate through training accuracies\n",
    "                \n",
    "                if abs(train_acc[j+1]-train_acc[j]) < epsilon:\n",
    "                    run_epochs.append(j)\n",
    "                    run_train_loss.append(train_loss[j])\n",
    "                    run_test_acc.append(test_acc[j])\n",
    "                    break\n",
    "        \n",
    "        setup.append([run['graph'], run['nr_nodes'],  run['add_privacy_list'], round(np.mean(run_epochs)), round(np.mean(run_train_loss),4), round(np.mean(run_test_acc),4)])\n",
    "        \n",
    "    return setup"
   ]
  },
  {
   "cell_type": "code",
   "execution_count": 100,
   "id": "93630ec7",
   "metadata": {},
   "outputs": [
    {
     "data": {
      "text/plain": [
       "[['FullyConnectedGraph', 4, False, 12, 0.0226, 0.9892],\n",
       " ['FullyConnectedGraph', 16, False, 14, 0.0106, 0.9886],\n",
       " ['FullyConnectedGraph', 32, False, 14, 0.0263, 0.985],\n",
       " ['Torus2D', 4, False, 7, 0.0232, 0.9889],\n",
       " ['Torus2D', 16, False, 21, 0.0055, 0.9882],\n",
       " ['Torus2D', 32, False, 16, 0.0131, 0.9841],\n",
       " ['CycleGraph', 4, False, 20, 0.0277, 0.9871],\n",
       " ['CycleGraph', 16, False, 13, 0.0163, 0.984],\n",
       " ['CycleGraph', 32, False, 17, 0.0215, 0.9781],\n",
       " ['RingOfCliques', 4, False, 20, 0.0227, 0.9895],\n",
       " ['RingOfCliques', 16, False, 13, 0.0112, 0.9869],\n",
       " ['RingOfCliques', 32, False, 13, 0.0254, 0.9781],\n",
       " ['FullyConnectedGraph', 4, True, 26, 2.1026, 0.9491],\n",
       " ['FullyConnectedGraph', 16, True, 24, 0.1307, 0.9747],\n",
       " ['FullyConnectedGraph', 32, True, 23, 0.1826, 0.9546],\n",
       " ['Torus2D', 4, True, 36, 3.4543, 0.9285],\n",
       " ['Torus2D', 16, True, 30, 0.3182, 0.954],\n",
       " ['Torus2D', 32, True, 23, 0.1714, 0.9583],\n",
       " ['CycleGraph', 4, True, 14, 2.461, 0.908],\n",
       " ['CycleGraph', 16, True, 27, 0.3877, 0.9477],\n",
       " ['CycleGraph', 32, True, 25, 0.2392, 0.9474],\n",
       " ['RingOfCliques', 4, True, 21, 3.3454, 0.9037],\n",
       " ['RingOfCliques', 16, True, 24, 0.2429, 0.9614],\n",
       " ['RingOfCliques', 32, True, 24, 0.1695, 0.9634]]"
      ]
     },
     "execution_count": 100,
     "metadata": {},
     "output_type": "execute_result"
    }
   ],
   "source": [
    "get_convergence(data)"
   ]
  },
  {
   "cell_type": "code",
   "execution_count": null,
   "id": "2aa60042",
   "metadata": {},
   "outputs": [],
   "source": []
  },
  {
   "cell_type": "code",
   "execution_count": null,
   "id": "417939d7",
   "metadata": {},
   "outputs": [],
   "source": []
  }
 ],
 "metadata": {
  "kernelspec": {
   "display_name": "Python 3",
   "language": "python",
   "name": "python3"
  },
  "language_info": {
   "codemirror_mode": {
    "name": "ipython",
    "version": 3
   },
   "file_extension": ".py",
   "mimetype": "text/x-python",
   "name": "python",
   "nbconvert_exporter": "python",
   "pygments_lexer": "ipython3",
   "version": "3.7.2"
  }
 },
 "nbformat": 4,
 "nbformat_minor": 5
}
