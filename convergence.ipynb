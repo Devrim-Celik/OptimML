{
 "cells": [
  {
   "cell_type": "code",
   "execution_count": null,
   "id": "853b9e94",
   "metadata": {},
   "outputs": [],
   "source": [
    "import pickle\n",
    "from auxiliary import load_pickle\n",
    "import pandas as pd\n",
    "import numpy as np"
   ]
  },
  {
   "cell_type": "code",
   "execution_count": null,
   "id": "455075eb",
   "metadata": {},
   "outputs": [],
   "source": [
    "PATH='./results/TestSuite-06_14_2021-18_28_23'"
   ]
  },
  {
   "cell_type": "code",
   "execution_count": null,
   "id": "f8ae8c75",
   "metadata": {},
   "outputs": [],
   "source": [
    "data = load_pickle(PATH)"
   ]
  },
  {
   "cell_type": "code",
   "execution_count": null,
   "id": "78b4e1f5",
   "metadata": {},
   "outputs": [],
   "source": [
    "# get the number of epochs it takes to converge and return a list of configuration + convergence epochs\n",
    "def get_convergence(results, epsilon = 0.0001):\n",
    "    \n",
    "    setup = []\n",
    "    for idx, run in enumerate(data): #iterate through runs\n",
    "\n",
    "        nr_nodes = run['nr_nodes']\n",
    "        run_epochs = []\n",
    "        run_test_acc = []\n",
    "        run_train_loss = []\n",
    "        \n",
    "        for i in range(nr_nodes): #iterate through nodes in run\n",
    "            \n",
    "            node_dict = run[f'node_{i}']\n",
    "            train_acc = node_dict['train_accuracies']\n",
    "            train_loss = node_dict['train_losses']\n",
    "            test_acc = node_dict['test_accuracies']\n",
    "            \n",
    "            for j in range(len(train_acc)-1): #iterate through training accuracies\n",
    "                \n",
    "                if abs(train_acc[j+1]-train_acc[j]) < epsilon:\n",
    "                    run_epochs.append(j)\n",
    "                    run_train_loss.append(train_loss[j])\n",
    "                    run_test_acc.append(test_acc[j])\n",
    "                    break\n",
    "        \n",
    "        setup.append([run['graph'], run['nr_nodes'],  run['add_privacy_list'], round(np.mean(run_epochs)), round(np.mean(run_train_loss),4), round(np.mean(run_test_acc),4)])\n",
    "        \n",
    "    return setup"
   ]
  },
  {
   "cell_type": "code",
   "execution_count": null,
   "id": "3f7ab29c",
   "metadata": {},
   "outputs": [],
   "source": [
    "get_convergence(data)"
   ]
  }
 ],
 "metadata": {
  "kernelspec": {
   "display_name": "Python 3",
   "language": "python",
   "name": "python3"
  },
  "language_info": {
   "codemirror_mode": {
    "name": "ipython",
    "version": 3
   },
   "file_extension": ".py",
   "mimetype": "text/x-python",
   "name": "python",
   "nbconvert_exporter": "python",
   "pygments_lexer": "ipython3",
   "version": "3.7.2"
  }
 },
 "nbformat": 4,
 "nbformat_minor": 5
}
