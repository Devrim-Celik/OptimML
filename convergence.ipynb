{
 "cells": [
  {
   "cell_type": "code",
   "execution_count": 1,
   "id": "623dda8d",
   "metadata": {},
   "outputs": [],
   "source": [
    "import pickle\n",
    "from auxiliary import load_pickle\n",
    "import pandas as pd\n",
    "import numpy as np"
   ]
  },
  {
   "cell_type": "code",
   "execution_count": 2,
   "id": "b61700c9",
   "metadata": {},
   "outputs": [],
   "source": [
    "PATH='./results/TestSuite-06_15_2021-15_22_45'"
   ]
  },
  {
   "cell_type": "code",
   "execution_count": 3,
   "id": "e73a7bca",
   "metadata": {},
   "outputs": [],
   "source": [
    "data = load_pickle(PATH)"
   ]
  },
  {
   "cell_type": "code",
   "execution_count": 4,
   "id": "13d5ba53",
   "metadata": {},
   "outputs": [],
   "source": [
    "# get the number of epochs it takes to converge and return a list of configuration + convergence epochs\n",
    "def get_convergence(results, epsilon = 0.0001):\n",
    "    \n",
    "    setup = []\n",
    "    for idx, run in enumerate(data): #iterate through runs\n",
    "\n",
    "        nr_nodes = run['nr_nodes']\n",
    "        run_epochs = []\n",
    "        run_test_acc = []\n",
    "        run_train_loss = []\n",
    "        \n",
    "        for i in range(nr_nodes): #iterate through nodes in run\n",
    "            \n",
    "            node_dict = run[f'node_{i}']\n",
    "            train_acc = node_dict['train_accuracies']\n",
    "            train_loss = node_dict['train_losses']\n",
    "            test_acc = node_dict['test_accuracies']\n",
    "            \n",
    "            for j in range(len(train_acc)-1): #iterate through training accuracies\n",
    "                \n",
    "                if abs(train_acc[j+1]-train_acc[j]) < epsilon:\n",
    "                    run_epochs.append(j)\n",
    "                    run_train_loss.append(train_loss[j])\n",
    "                    run_test_acc.append(test_acc[j])\n",
    "                    break\n",
    "        \n",
    "        setup.append([run['graph'], run['nr_nodes'],  run['add_privacy_list'], round(np.mean(run_epochs)), round(np.mean(run_train_loss),4), round(np.mean(run_test_acc),4)])\n",
    "        \n",
    "    return setup"
   ]
  },
  {
   "cell_type": "code",
   "execution_count": 5,
   "id": "371c6392",
   "metadata": {},
   "outputs": [
    {
     "data": {
      "text/plain": [
       "[['FullyConnectedGraph', 4, False, 8, 0.0388, 0.9203],\n",
       " ['FullyConnectedGraph', 16, False, 20, 0.0434, 0.9772],\n",
       " ['FullyConnectedGraph', 32, False, 18, 0.081, 0.9718],\n",
       " ['CycleGraph', 4, False, 24, 0.0377, 0.9772],\n",
       " ['CycleGraph', 16, False, 22, 0.0217, 0.9751],\n",
       " ['CycleGraph', 32, False, 18, 0.0471, 0.9528],\n",
       " ['Torus2D', 4, False, 14, 0.044, 0.9872],\n",
       " ['Torus2D', 16, False, 23, 0.0167, 0.9834],\n",
       " ['Torus2D', 32, False, 17, 0.05, 0.9218],\n",
       " ['RingOfCliques', 4, False, 18, 0.0285, 0.9817],\n",
       " ['RingOfCliques', 16, False, 14, 0.022, 0.9808],\n",
       " ['RingOfCliques', 32, False, 24, 0.042, 0.9598],\n",
       " ['FullyConnectedGraph', 4, True, 19, 1.113, 0.9183],\n",
       " ['FullyConnectedGraph', 16, True, 20, 0.6643, 0.9348],\n",
       " ['FullyConnectedGraph', 32, True, 26, 0.2428, 0.9494],\n",
       " ['CycleGraph', 4, True, 30, 1.0375, 0.9419],\n",
       " ['CycleGraph', 16, True, 19, 0.1885, 0.9544],\n",
       " ['CycleGraph', 32, True, 21, 0.2034, 0.9386],\n",
       " ['Torus2D', 4, True, 24, 0.9051, 0.9289],\n",
       " ['Torus2D', 16, True, 23, 0.185, 0.955],\n",
       " ['Torus2D', 32, True, 21, 0.1832, 0.9475],\n",
       " ['RingOfCliques', 4, True, 16, 0.749, 0.9337],\n",
       " ['RingOfCliques', 16, True, 22, 0.1819, 0.959],\n",
       " ['RingOfCliques', 32, True, 19, 0.222, 0.9455]]"
      ]
     },
     "execution_count": 5,
     "metadata": {},
     "output_type": "execute_result"
    }
   ],
   "source": [
    "get_convergence(data)"
   ]
  },
  {
   "cell_type": "code",
   "execution_count": null,
   "id": "48543f70",
   "metadata": {},
   "outputs": [],
   "source": []
  }
 ],
 "metadata": {
  "kernelspec": {
   "display_name": "Python 3",
   "language": "python",
   "name": "python3"
  },
  "language_info": {
   "codemirror_mode": {
    "name": "ipython",
    "version": 3
   },
   "file_extension": ".py",
   "mimetype": "text/x-python",
   "name": "python",
   "nbconvert_exporter": "python",
   "pygments_lexer": "ipython3",
   "version": "3.7.2"
  }
 },
 "nbformat": 4,
 "nbformat_minor": 5
}
